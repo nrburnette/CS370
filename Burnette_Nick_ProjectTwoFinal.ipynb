{
 "cells": [
  {
   "cell_type": "markdown",
   "metadata": {},
   "source": [
    "# Treasure Hunt Game Notebook\n",
    "\n",
    "## Read and Review Your Starter Code\n",
    "The theme of this project is a popular treasure hunt game in which the player needs to find the treasure before the pirate does. While you will not be developing the entire game, you will write the part of the game that represents the intelligent agent, which is a pirate in this case. The pirate will try to find the optimal path to the treasure using deep Q-learning. \n",
    "\n",
    "You have been provided with two Python classes and this notebook to help you with this assignment. The first class, TreasureMaze.py, represents the environment, which includes a maze object defined as a matrix. The second class, GameExperience.py, stores the episodes – that is, all the states that come in between the initial state and the terminal state. This is later used by the agent for learning by experience, called \"exploration\". This notebook shows how to play a game. Your task is to complete the deep Q-learning implementation for which a skeleton implementation has been provided. The code blocks you will need to complete has #TODO as a header.\n",
    "\n",
    "First, read and review the next few code and instruction blocks to understand the code that you have been given."
   ]
  },
  {
   "cell_type": "code",
   "execution_count": 304,
   "metadata": {},
   "outputs": [],
   "source": [
    "from __future__ import print_function\n",
    "import os, sys, time, datetime, json, random\n",
    "import numpy as np\n",
    "from keras.models import Sequential\n",
    "from keras.layers.core import Dense, Activation\n",
    "from keras.optimizers import SGD , Adam, RMSprop\n",
    "from keras.layers.advanced_activations import PReLU\n",
    "import matplotlib.pyplot as plt\n",
    "from TreasureMaze import TreasureMaze\n",
    "from GameExperience import GameExperience\n",
    "%matplotlib inline"
   ]
  },
  {
   "cell_type": "markdown",
   "metadata": {},
   "source": [
    "The following code block contains an 8x8 matrix that will be used as a maze object:"
   ]
  },
  {
   "cell_type": "code",
   "execution_count": 305,
   "metadata": {},
   "outputs": [],
   "source": [
    "maze = np.array([\n",
    "    [ 1.,  0.,  1.,  1.,  1.,  1.,  1.,  1.],\n",
    "    [ 1.,  0.,  1.,  1.,  1.,  0.,  1.,  1.],\n",
    "    [ 1.,  1.,  1.,  1.,  0.,  1.,  0.,  1.],\n",
    "    [ 1.,  1.,  1.,  0.,  1.,  1.,  1.,  1.],\n",
    "    [ 1.,  1.,  0.,  1.,  1.,  1.,  1.,  1.],\n",
    "    [ 1.,  1.,  1.,  0.,  1.,  0.,  0.,  0.],\n",
    "    [ 1.,  1.,  1.,  0.,  1.,  1.,  1.,  1.],\n",
    "    [ 1.,  1.,  1.,  1.,  0.,  1.,  1.,  1.]\n",
    "])"
   ]
  },
  {
   "cell_type": "markdown",
   "metadata": {},
   "source": [
    "This helper function allows a visual representation of the maze object:"
   ]
  },
  {
   "cell_type": "code",
   "execution_count": 306,
   "metadata": {},
   "outputs": [],
   "source": [
    "def show(qmaze):\n",
    "    plt.grid('on')\n",
    "    nrows, ncols = qmaze.maze.shape\n",
    "    ax = plt.gca()\n",
    "    ax.set_xticks(np.arange(0.5, nrows, 1))\n",
    "    ax.set_yticks(np.arange(0.5, ncols, 1))\n",
    "    ax.set_xticklabels([])\n",
    "    ax.set_yticklabels([])\n",
    "    canvas = np.copy(qmaze.maze)\n",
    "    for row,col in qmaze.visited:\n",
    "        canvas[row,col] = 0.6\n",
    "    pirate_row, pirate_col, _ = qmaze.state\n",
    "    canvas[pirate_row, pirate_col] = 0.3   # pirate cell\n",
    "    canvas[nrows-1, ncols-1] = 0.9 # treasure cell\n",
    "    img = plt.imshow(canvas, interpolation='none', cmap='gray')\n",
    "    return img"
   ]
  },
  {
   "cell_type": "markdown",
   "metadata": {},
   "source": [
    "The pirate agent can move in four directions: left, right, up, and down. \n",
    "\n",
    "While the agent primarily learns by experience through exploitation, often, the agent can choose to explore the environment to find previously undiscovered paths. This is called \"exploration\" and is defined by epsilon. This value is typically a lower value such as 0.1, which means for every ten attempts, the agent will attempt to learn by experience nine times and will randomly explore a new path one time. You are encouraged to try various values for the exploration factor and see how the algorithm performs."
   ]
  },
  {
   "cell_type": "code",
   "execution_count": 307,
   "metadata": {},
   "outputs": [],
   "source": [
    "LEFT = 0\n",
    "UP = 1\n",
    "RIGHT = 2\n",
    "DOWN = 3\n",
    "\n",
    "\n",
    "# Exploration factor\n",
    "epsilon = 0.1\n",
    "\n",
    "# Actions dictionary\n",
    "actions_dict = {\n",
    "    LEFT: 'left',\n",
    "    UP: 'up',\n",
    "    RIGHT: 'right',\n",
    "    DOWN: 'down',\n",
    "}\n",
    "\n",
    "num_actions = len(actions_dict)\n"
   ]
  },
  {
   "cell_type": "markdown",
   "metadata": {},
   "source": [
    "The sample code block and output below show creating a maze object and performing one action (DOWN), which returns the reward. The resulting updated environment is visualized."
   ]
  },
  {
   "cell_type": "code",
   "execution_count": 308,
   "metadata": {},
   "outputs": [
    {
     "name": "stdout",
     "output_type": "stream",
     "text": [
      "reward= -0.04\n"
     ]
    },
    {
     "data": {
      "text/plain": [
       "<matplotlib.image.AxesImage at 0x1d71242d3c8>"
      ]
     },
     "execution_count": 308,
     "metadata": {},
     "output_type": "execute_result"
    },
    {
     "data": {
      "image/png": "[encoded data removed]",
      "text/plain": [
       "<Figure size 432x288 with 1 Axes>"
      ]
     },
     "metadata": {
      "needs_background": "light"
     },
     "output_type": "display_data"
    }
   ],
   "source": [
    "qmaze = TreasureMaze(maze)\n",
    "canvas, reward, game_over = qmaze.act(DOWN)\n",
    "print(\"reward=\", reward)\n",
    "show(qmaze)"
   ]
  },
  {
   "cell_type": "markdown",
   "metadata": {},
   "source": [
    "This function simulates a full game based on the provided trained model. The other parameters include the TreasureMaze object and the starting position of the pirate."
   ]
  },
  {
   "cell_type": "code",
   "execution_count": 309,
   "metadata": {},
   "outputs": [],
   "source": [
    "def play_game(model, qmaze, pirate_cell):\n",
    "    qmaze.reset(pirate_cell)\n",
    "    envstate = qmaze.observe()\n",
    "    while True:\n",
    "        prev_envstate = envstate\n",
    "        # get next action\n",
    "        q = model.predict(prev_envstate)\n",
    "        action = np.argmax(q[0])\n",
    "\n",
    "        # apply action, get rewards and new state\n",
    "        envstate, reward, game_status = qmaze.act(action)\n",
    "        if game_status == 'win':\n",
    "            return True\n",
    "        elif game_status == 'lose':\n",
    "            return False"
   ]
  },
  {
   "cell_type": "markdown",
   "metadata": {},
   "source": [
    "This function helps you to determine whether the pirate can win any game at all. If your maze is not well designed, the pirate may not win any game at all. In this case, your training would not yield any result. The provided maze in this notebook ensures that there is a path to win and you can run this method to check."
   ]
  },
  {
   "cell_type": "code",
   "execution_count": 310,
   "metadata": {},
   "outputs": [],
   "source": [
    "def completion_check(model, qmaze):\n",
    "    for cell in qmaze.free_cells:\n",
    "        if not qmaze.valid_actions(cell):\n",
    "            return False\n",
    "        if not play_game(model, qmaze, cell):\n",
    "            return False\n",
    "    return True"
   ]
  },
  {
   "cell_type": "markdown",
   "metadata": {},
   "source": [
    "The code you have been given in this block will build the neural network model. Review the code and note the number of layers, as well as the activation, optimizer, and loss functions that are used to train the model."
   ]
  },
  {
   "cell_type": "code",
   "execution_count": 311,
   "metadata": {},
   "outputs": [],
   "source": [
    "def build_model(maze):\n",
    "    model = Sequential()\n",
    "    model.add(Dense(maze.size, input_shape=(maze.size,)))\n",
    "    model.add(PReLU())\n",
    "    model.add(Dense(maze.size))\n",
    "    model.add(PReLU())\n",
    "    model.add(Dense(num_actions))\n",
    "    model.compile(optimizer='adam', loss='mse')\n",
    "    return model"
   ]
  },
  {
   "cell_type": "markdown",
   "metadata": {},
   "source": [
    "# #TODO: Complete the Q-Training Algorithm Code Block\n",
    "\n",
    "This is your deep Q-learning implementation. The goal of your deep Q-learning implementation is to find the best possible navigation sequence that results in reaching the treasure cell while maximizing the reward. In your implementation, you need to determine the optimal number of epochs to achieve a 100% win rate.\n",
    "\n",
    "You will need to complete the section starting with #pseudocode. The pseudocode has been included for you."
   ]
  },
  {
   "cell_type": "code",
   "execution_count": 312,
   "metadata": {},
   "outputs": [],
   "source": [
    "def qtrain(model, maze, **opt):\n",
    "\n",
    "    # exploration factor\n",
    "    global epsilon \n",
    "\n",
    "    # number of epochs\n",
    "    n_epoch = opt.get('n_epoch', 1999) #NICKB adjusted from 14999 to get faster runs\n",
    "\n",
    "    # maximum memory to store episodes\n",
    "    max_memory = opt.get('max_memory', 1000)\n",
    "\n",
    "    # maximum data size for training\n",
    "    data_size = opt.get('data_size', 50) \n",
    "\n",
    "    # start time\n",
    "    start_time = datetime.datetime.now()\n",
    "\n",
    "    # Construct environment/game from numpy array: maze (see above)\n",
    "    qmaze = TreasureMaze(maze)\n",
    "\n",
    "    # Initialize experience replay object\n",
    "    experience = GameExperience(model, max_memory=max_memory)\n",
    "    \n",
    "    win_history = []   # history of win/lose game\n",
    "    hsize = qmaze.maze.size//2   # history window size\n",
    "    win_rate = 0.0\n",
    "    \n",
    "    # pseudocode:\n",
    "    # For each epoch:\n",
    "    #    Agent_cell = randomly select a free cell  DONE\n",
    "    #    Reset the maze with agent set to above position  DONE\n",
    "    #    Hint: Review the reset method in the TreasureMaze.py class.  DONE\n",
    "    #    envstate = Environment.current_state   DONE\n",
    "    #    Hint: Review the observe method in the TreasureMaze.py class.  DONE\n",
    "    #    While state is not game over:  DONE\n",
    "    #        previous_envstate = envstate  DONE\n",
    "    #        Action = randomly choose action (left, right, up, down) either by exploration or by exploitation  DONE\n",
    "    #        envstate, reward, game_status = qmaze.act(action)  DONE\n",
    "    #    Hint: Review the act method in the TreasureMaze.py class.  DONE\n",
    "    #        episode = [previous_envstate, action, reward, envstate, game_status]  DONE\n",
    "    #        Store episode in Experience replay object  DONE\n",
    "    #    Hint: Review the remember method in the GameExperience.py class.  DONE\n",
    "    #        Train neural network model and evaluate loss  DONE\n",
    "    #    Hint: Call GameExperience.get_data to retrieve training data (input and target) and pass to model.fit method \n",
    "    #          to train the model. You can call model.evaluate to determine loss.  DONE\n",
    "    #    If the win rate is above the threshold and your model passes the completion check, that would be your epoch.  DONE\n",
    "    \n",
    "#NICKB fun code\n",
    "\n",
    "    #every game played\n",
    "    for epoch in range(n_epoch):\n",
    "        n_episodes = 0\n",
    "        loss = 0\n",
    "        # Randomly select available cell\n",
    "        agent_cell = random.choice(qmaze.free_cells)\n",
    "        # Resets game\n",
    "        qmaze.reset(agent_cell)\n",
    "        #get initial observation\n",
    "        envstate = qmaze.observe()\n",
    "    \n",
    "        \n",
    "        #run one episode until the game ends\n",
    "        while True:\n",
    "            previous_envstate = envstate\n",
    "            \n",
    "            valid_actions = qmaze.valid_actions()\n",
    "            \n",
    "            # Get the next action using epsilon-greedy aproach\n",
    "            if np.random.rand() < epsilon:\n",
    "                action = random.choice(valid_actions)\n",
    "            else:\n",
    "                action = np.argmax(experience.predict(envstate))\n",
    "            \n",
    "            \n",
    "            #action increases episode count\n",
    "            n_episodes += 1\n",
    "\n",
    "            #Take an action\n",
    "            envstate, reward, game_status = qmaze.act(action)\n",
    "            \n",
    "            #Remembers episode\n",
    "            episode = [previous_envstate, action, reward, envstate, game_status]\n",
    "            \n",
    "            experience.remember(episode)                \n",
    "                \n",
    "            inputs,targets = experience.get_data()            \n",
    "            \n",
    "            history = model.fit(inputs, targets, epochs=8, batch_size=24, verbose=0)\n",
    "            \n",
    "            loss = model.evaluate(inputs, targets, verbose=0)\n",
    "            \n",
    "            #if won, index 4 gets game_status from episode list above\n",
    "            if episode [4] == 'win': \n",
    "                win_history.append(1)\n",
    "                win_rate = sum(win_history) / len(win_history)\n",
    "                break\n",
    "            #if lose\n",
    "            elif episode[4] == 'lose':\n",
    "                win_history.append(0)\n",
    "                win_rate = sum(win_history) / len(win_history)\n",
    "                break\n",
    "\n",
    "\n",
    "\n",
    "\n",
    " #ends NickB funcode\n",
    "\n",
    "    #Print the epoch, loss, episodes, win count, and win rate for each epoch\n",
    "        dt = datetime.datetime.now() - start_time\n",
    "        t = format_time(dt.total_seconds())\n",
    "        template = \"Epoch: {:03d}/{:d} | Loss: {:.4f} | Episodes: {:d} | Win count: {:d} | Win rate: {:.3f} | time: {}\"\n",
    "        print(template.format(epoch, n_epoch-1, loss, n_episodes, sum(win_history), win_rate, t))\n",
    "        # We simply check if training has exhausted all free cells and if in all\n",
    "        # cases the agent won.\n",
    "        if win_rate > 0.9 : epsilon = 0.05\n",
    "        if sum(win_history[-hsize:]) == hsize and completion_check(model, qmaze):\n",
    "            print(\"Reached 100%% win rate at epoch: %d\" % (epoch,))\n",
    "            break\n",
    "    \n",
    "    \n",
    "    # Determine the total time for training\n",
    "    dt = datetime.datetime.now() - start_time\n",
    "    seconds = dt.total_seconds()\n",
    "    t = format_time(seconds)\n",
    "\n",
    "    print(\"n_epoch: %d, max_mem: %d, data: %d, time: %s\" % (epoch, max_memory, data_size, t))\n",
    "    return seconds\n",
    "\n",
    "# This is a small utility for printing readable time strings:\n",
    "def format_time(seconds):\n",
    "    if seconds < 400:\n",
    "        s = float(seconds)\n",
    "        return \"%.1f seconds\" % (s,)\n",
    "    elif seconds < 4000:\n",
    "        m = seconds / 60.0\n",
    "        return \"%.2f minutes\" % (m,)\n",
    "    else:\n",
    "        h = seconds / 3600.0\n",
    "        return \"%.2f hours\" % (h,)"
   ]
  },
  {
   "cell_type": "markdown",
   "metadata": {},
   "source": [
    "## Test Your Model\n",
    "\n",
    "Now we will start testing the deep Q-learning implementation. To begin, select **Cell**, then **Run All** from the menu bar. This will run your notebook. As it runs, you should see output begin to appear beneath the next few cells. The code below creates an instance of TreasureMaze."
   ]
  },
  {
   "cell_type": "code",
   "execution_count": 313,
   "metadata": {},
   "outputs": [
    {
     "data": {
      "text/plain": [
       "<matplotlib.image.AxesImage at 0x1d714a99488>"
      ]
     },
     "execution_count": 313,
     "metadata": {},
     "output_type": "execute_result"
    },
    {
     "data": {
      "image/png": "[encoded data removed]",
      "text/plain": [
       "<Figure size 432x288 with 1 Axes>"
      ]
     },
     "metadata": {
      "needs_background": "light"
     },
     "output_type": "display_data"
    }
   ],
   "source": [
    "qmaze = TreasureMaze(maze)\n",
    "show(qmaze)"
   ]
  },
  {
   "cell_type": "markdown",
   "metadata": {},
   "source": [
    "In the next code block, you will build your model and train it using deep Q-learning. Note: This step takes several minutes to fully run."
   ]
  },
  {
   "cell_type": "code",
   "execution_count": 314,
   "metadata": {},
   "outputs": [
    {
     "name": "stdout",
     "output_type": "stream",
     "text": [
      "Epoch: 000/1998 | Loss: 0.0006 | Episodes: 138 | Win count: 0 | Win rate: 0.000 | time: 5.6 seconds\n",
      "Epoch: 001/1998 | Loss: 0.0001 | Episodes: 131 | Win count: 0 | Win rate: 0.000 | time: 9.3 seconds\n",
      "Epoch: 002/1998 | Loss: 0.0001 | Episodes: 138 | Win count: 0 | Win rate: 0.000 | time: 13.3 seconds\n",
      "Epoch: 003/1998 | Loss: 0.0000 | Episodes: 146 | Win count: 0 | Win rate: 0.000 | time: 17.6 seconds\n",
      "Epoch: 004/1998 | Loss: 0.0018 | Episodes: 3 | Win count: 1 | Win rate: 0.200 | time: 17.7 seconds\n",
      "Epoch: 005/1998 | Loss: 0.0001 | Episodes: 143 | Win count: 1 | Win rate: 0.167 | time: 21.9 seconds\n",
      "Epoch: 006/1998 | Loss: 0.0001 | Episodes: 150 | Win count: 1 | Win rate: 0.143 | time: 26.2 seconds\n",
      "Epoch: 007/1998 | Loss: 0.0007 | Episodes: 143 | Win count: 1 | Win rate: 0.125 | time: 30.3 seconds\n",
      "Epoch: 008/1998 | Loss: 0.0012 | Episodes: 17 | Win count: 2 | Win rate: 0.222 | time: 30.7 seconds\n",
      "Epoch: 009/1998 | Loss: 0.0002 | Episodes: 135 | Win count: 2 | Win rate: 0.200 | time: 34.5 seconds\n",
      "Epoch: 010/1998 | Loss: 0.0007 | Episodes: 121 | Win count: 3 | Win rate: 0.273 | time: 37.9 seconds\n",
      "Epoch: 011/1998 | Loss: 0.0006 | Episodes: 136 | Win count: 3 | Win rate: 0.250 | time: 41.8 seconds\n",
      "Epoch: 012/1998 | Loss: 0.0013 | Episodes: 54 | Win count: 4 | Win rate: 0.308 | time: 43.5 seconds\n",
      "Epoch: 013/1998 | Loss: 0.0008 | Episodes: 28 | Win count: 5 | Win rate: 0.357 | time: 44.4 seconds\n",
      "Epoch: 014/1998 | Loss: 0.0004 | Episodes: 45 | Win count: 6 | Win rate: 0.400 | time: 45.9 seconds\n",
      "Epoch: 015/1998 | Loss: 0.0010 | Episodes: 17 | Win count: 7 | Win rate: 0.438 | time: 46.4 seconds\n",
      "Epoch: 016/1998 | Loss: 0.0001 | Episodes: 26 | Win count: 8 | Win rate: 0.471 | time: 47.2 seconds\n",
      "Epoch: 017/1998 | Loss: 0.0008 | Episodes: 6 | Win count: 9 | Win rate: 0.500 | time: 47.4 seconds\n",
      "Epoch: 018/1998 | Loss: 0.0006 | Episodes: 12 | Win count: 10 | Win rate: 0.526 | time: 47.8 seconds\n",
      "Epoch: 019/1998 | Loss: 0.0004 | Episodes: 35 | Win count: 11 | Win rate: 0.550 | time: 48.8 seconds\n",
      "Epoch: 020/1998 | Loss: 0.0010 | Episodes: 9 | Win count: 12 | Win rate: 0.571 | time: 49.1 seconds\n",
      "Epoch: 021/1998 | Loss: 0.0016 | Episodes: 16 | Win count: 13 | Win rate: 0.591 | time: 49.5 seconds\n",
      "Epoch: 022/1998 | Loss: 0.0279 | Episodes: 33 | Win count: 14 | Win rate: 0.609 | time: 50.5 seconds\n",
      "Epoch: 023/1998 | Loss: 0.0009 | Episodes: 25 | Win count: 15 | Win rate: 0.625 | time: 51.2 seconds\n",
      "Epoch: 024/1998 | Loss: 0.0032 | Episodes: 31 | Win count: 16 | Win rate: 0.640 | time: 52.2 seconds\n",
      "Epoch: 025/1998 | Loss: 0.0007 | Episodes: 28 | Win count: 17 | Win rate: 0.654 | time: 53.0 seconds\n",
      "Epoch: 026/1998 | Loss: 0.0002 | Episodes: 6 | Win count: 18 | Win rate: 0.667 | time: 53.2 seconds\n",
      "Epoch: 027/1998 | Loss: 0.0010 | Episodes: 15 | Win count: 19 | Win rate: 0.679 | time: 53.7 seconds\n",
      "Epoch: 028/1998 | Loss: 0.0002 | Episodes: 25 | Win count: 20 | Win rate: 0.690 | time: 54.4 seconds\n",
      "Epoch: 029/1998 | Loss: 0.0003 | Episodes: 30 | Win count: 21 | Win rate: 0.700 | time: 55.3 seconds\n",
      "Epoch: 030/1998 | Loss: 0.0006 | Episodes: 34 | Win count: 22 | Win rate: 0.710 | time: 56.3 seconds\n",
      "Epoch: 031/1998 | Loss: 0.0007 | Episodes: 37 | Win count: 23 | Win rate: 0.719 | time: 57.3 seconds\n",
      "Epoch: 032/1998 | Loss: 0.0022 | Episodes: 75 | Win count: 24 | Win rate: 0.727 | time: 59.5 seconds\n",
      "Epoch: 033/1998 | Loss: 0.0008 | Episodes: 5 | Win count: 25 | Win rate: 0.735 | time: 59.6 seconds\n",
      "Epoch: 034/1998 | Loss: 0.0008 | Episodes: 18 | Win count: 26 | Win rate: 0.743 | time: 60.1 seconds\n",
      "Epoch: 035/1998 | Loss: 0.0003 | Episodes: 29 | Win count: 27 | Win rate: 0.750 | time: 61.0 seconds\n",
      "Epoch: 036/1998 | Loss: 0.0012 | Episodes: 9 | Win count: 28 | Win rate: 0.757 | time: 61.3 seconds\n",
      "Epoch: 037/1998 | Loss: 0.0010 | Episodes: 4 | Win count: 29 | Win rate: 0.763 | time: 61.4 seconds\n",
      "Epoch: 038/1998 | Loss: 0.0009 | Episodes: 20 | Win count: 30 | Win rate: 0.769 | time: 62.1 seconds\n",
      "Epoch: 039/1998 | Loss: 0.0010 | Episodes: 13 | Win count: 31 | Win rate: 0.775 | time: 62.5 seconds\n",
      "Epoch: 040/1998 | Loss: 0.0026 | Episodes: 10 | Win count: 32 | Win rate: 0.780 | time: 62.9 seconds\n",
      "Epoch: 041/1998 | Loss: 0.0005 | Episodes: 9 | Win count: 33 | Win rate: 0.786 | time: 63.1 seconds\n",
      "Epoch: 042/1998 | Loss: 0.0006 | Episodes: 122 | Win count: 34 | Win rate: 0.791 | time: 67.0 seconds\n",
      "Epoch: 043/1998 | Loss: 0.0008 | Episodes: 27 | Win count: 35 | Win rate: 0.795 | time: 67.9 seconds\n",
      "Epoch: 044/1998 | Loss: 0.0001 | Episodes: 35 | Win count: 36 | Win rate: 0.800 | time: 69.0 seconds\n",
      "Epoch: 045/1998 | Loss: 0.0020 | Episodes: 10 | Win count: 37 | Win rate: 0.804 | time: 69.5 seconds\n",
      "Epoch: 046/1998 | Loss: 0.0010 | Episodes: 28 | Win count: 38 | Win rate: 0.809 | time: 70.4 seconds\n",
      "Epoch: 047/1998 | Loss: 0.0002 | Episodes: 24 | Win count: 39 | Win rate: 0.812 | time: 71.2 seconds\n",
      "Epoch: 048/1998 | Loss: 0.0006 | Episodes: 14 | Win count: 40 | Win rate: 0.816 | time: 71.7 seconds\n",
      "Epoch: 049/1998 | Loss: 0.0003 | Episodes: 27 | Win count: 41 | Win rate: 0.820 | time: 72.6 seconds\n",
      "Epoch: 050/1998 | Loss: 0.0003 | Episodes: 27 | Win count: 42 | Win rate: 0.824 | time: 73.5 seconds\n",
      "Epoch: 051/1998 | Loss: 0.0012 | Episodes: 12 | Win count: 43 | Win rate: 0.827 | time: 74.0 seconds\n",
      "Epoch: 052/1998 | Loss: 0.0004 | Episodes: 28 | Win count: 44 | Win rate: 0.830 | time: 74.9 seconds\n",
      "Epoch: 053/1998 | Loss: 0.0012 | Episodes: 27 | Win count: 45 | Win rate: 0.833 | time: 75.7 seconds\n",
      "Epoch: 054/1998 | Loss: 0.0015 | Episodes: 14 | Win count: 46 | Win rate: 0.836 | time: 76.2 seconds\n",
      "Epoch: 055/1998 | Loss: 0.0001 | Episodes: 30 | Win count: 47 | Win rate: 0.839 | time: 77.2 seconds\n",
      "Epoch: 056/1998 | Loss: 0.0001 | Episodes: 20 | Win count: 48 | Win rate: 0.842 | time: 78.0 seconds\n",
      "Epoch: 057/1998 | Loss: 0.0000 | Episodes: 26 | Win count: 49 | Win rate: 0.845 | time: 78.8 seconds\n",
      "Epoch: 058/1998 | Loss: 0.0006 | Episodes: 20 | Win count: 50 | Win rate: 0.847 | time: 79.5 seconds\n",
      "Epoch: 059/1998 | Loss: 0.0001 | Episodes: 1 | Win count: 51 | Win rate: 0.850 | time: 79.6 seconds\n",
      "Epoch: 060/1998 | Loss: 0.0001 | Episodes: 25 | Win count: 52 | Win rate: 0.852 | time: 80.4 seconds\n",
      "Epoch: 061/1998 | Loss: 0.0005 | Episodes: 28 | Win count: 53 | Win rate: 0.855 | time: 81.3 seconds\n",
      "Epoch: 062/1998 | Loss: 0.0017 | Episodes: 64 | Win count: 54 | Win rate: 0.857 | time: 83.3 seconds\n",
      "Epoch: 063/1998 | Loss: 0.0000 | Episodes: 19 | Win count: 55 | Win rate: 0.859 | time: 84.0 seconds\n",
      "Epoch: 064/1998 | Loss: 0.0006 | Episodes: 32 | Win count: 56 | Win rate: 0.862 | time: 85.1 seconds\n",
      "Epoch: 065/1998 | Loss: 0.0002 | Episodes: 4 | Win count: 57 | Win rate: 0.864 | time: 85.3 seconds\n",
      "Epoch: 066/1998 | Loss: 0.0008 | Episodes: 31 | Win count: 58 | Win rate: 0.866 | time: 86.4 seconds\n",
      "Epoch: 067/1998 | Loss: 0.0003 | Episodes: 3 | Win count: 59 | Win rate: 0.868 | time: 86.6 seconds\n",
      "Epoch: 068/1998 | Loss: 0.0002 | Episodes: 12 | Win count: 60 | Win rate: 0.870 | time: 87.1 seconds\n",
      "Epoch: 069/1998 | Loss: 0.0009 | Episodes: 25 | Win count: 61 | Win rate: 0.871 | time: 87.9 seconds\n",
      "Epoch: 070/1998 | Loss: 0.0026 | Episodes: 43 | Win count: 62 | Win rate: 0.873 | time: 89.5 seconds\n",
      "Epoch: 071/1998 | Loss: 0.0003 | Episodes: 22 | Win count: 63 | Win rate: 0.875 | time: 90.3 seconds\n",
      "Epoch: 072/1998 | Loss: 0.0003 | Episodes: 27 | Win count: 64 | Win rate: 0.877 | time: 91.2 seconds\n",
      "Epoch: 073/1998 | Loss: 0.0011 | Episodes: 16 | Win count: 65 | Win rate: 0.878 | time: 91.7 seconds\n",
      "Epoch: 074/1998 | Loss: 0.0007 | Episodes: 44 | Win count: 66 | Win rate: 0.880 | time: 93.1 seconds\n",
      "Epoch: 075/1998 | Loss: 0.0003 | Episodes: 14 | Win count: 67 | Win rate: 0.882 | time: 93.7 seconds\n",
      "Epoch: 076/1998 | Loss: 0.0003 | Episodes: 23 | Win count: 68 | Win rate: 0.883 | time: 94.5 seconds\n",
      "Epoch: 077/1998 | Loss: 0.0003 | Episodes: 12 | Win count: 69 | Win rate: 0.885 | time: 94.9 seconds\n",
      "Epoch: 078/1998 | Loss: 0.0009 | Episodes: 24 | Win count: 70 | Win rate: 0.886 | time: 95.7 seconds\n",
      "Epoch: 079/1998 | Loss: 0.0006 | Episodes: 20 | Win count: 71 | Win rate: 0.887 | time: 96.4 seconds\n",
      "Epoch: 080/1998 | Loss: 0.0003 | Episodes: 2 | Win count: 72 | Win rate: 0.889 | time: 96.6 seconds\n",
      "Epoch: 081/1998 | Loss: 0.0004 | Episodes: 31 | Win count: 73 | Win rate: 0.890 | time: 97.7 seconds\n",
      "Epoch: 082/1998 | Loss: 0.0003 | Episodes: 41 | Win count: 74 | Win rate: 0.892 | time: 98.9 seconds\n",
      "Epoch: 083/1998 | Loss: 0.0003 | Episodes: 40 | Win count: 75 | Win rate: 0.893 | time: 100.2 seconds\n",
      "Epoch: 084/1998 | Loss: 0.0004 | Episodes: 33 | Win count: 76 | Win rate: 0.894 | time: 101.3 seconds\n",
      "Epoch: 085/1998 | Loss: 0.0011 | Episodes: 13 | Win count: 77 | Win rate: 0.895 | time: 101.8 seconds\n",
      "Epoch: 086/1998 | Loss: 0.0017 | Episodes: 45 | Win count: 78 | Win rate: 0.897 | time: 103.2 seconds\n",
      "Epoch: 087/1998 | Loss: 0.0020 | Episodes: 9 | Win count: 79 | Win rate: 0.898 | time: 103.6 seconds\n",
      "Epoch: 088/1998 | Loss: 0.0006 | Episodes: 61 | Win count: 80 | Win rate: 0.899 | time: 105.5 seconds\n",
      "Epoch: 089/1998 | Loss: 0.0009 | Episodes: 3 | Win count: 81 | Win rate: 0.900 | time: 105.7 seconds\n",
      "Epoch: 090/1998 | Loss: 0.0005 | Episodes: 6 | Win count: 82 | Win rate: 0.901 | time: 105.9 seconds\n",
      "Epoch: 091/1998 | Loss: 0.0006 | Episodes: 115 | Win count: 83 | Win rate: 0.902 | time: 109.6 seconds\n",
      "Epoch: 092/1998 | Loss: 0.0008 | Episodes: 38 | Win count: 84 | Win rate: 0.903 | time: 111.0 seconds\n",
      "Epoch: 093/1998 | Loss: 0.0024 | Episodes: 54 | Win count: 85 | Win rate: 0.904 | time: 112.8 seconds\n",
      "Epoch: 094/1998 | Loss: 0.0004 | Episodes: 25 | Win count: 86 | Win rate: 0.905 | time: 113.7 seconds\n",
      "Epoch: 095/1998 | Loss: 0.0013 | Episodes: 33 | Win count: 87 | Win rate: 0.906 | time: 114.8 seconds\n",
      "Epoch: 096/1998 | Loss: 0.0009 | Episodes: 57 | Win count: 88 | Win rate: 0.907 | time: 116.7 seconds\n",
      "Epoch: 097/1998 | Loss: 0.0018 | Episodes: 1 | Win count: 89 | Win rate: 0.908 | time: 116.8 seconds\n",
      "Epoch: 098/1998 | Loss: 0.0011 | Episodes: 15 | Win count: 90 | Win rate: 0.909 | time: 117.4 seconds\n",
      "Epoch: 099/1998 | Loss: 0.0018 | Episodes: 25 | Win count: 91 | Win rate: 0.910 | time: 118.5 seconds\n",
      "Epoch: 100/1998 | Loss: 0.0016 | Episodes: 26 | Win count: 92 | Win rate: 0.911 | time: 119.5 seconds\n",
      "Epoch: 101/1998 | Loss: 0.0008 | Episodes: 2 | Win count: 93 | Win rate: 0.912 | time: 119.7 seconds\n",
      "Epoch: 102/1998 | Loss: 0.0014 | Episodes: 25 | Win count: 94 | Win rate: 0.913 | time: 120.6 seconds\n",
      "Epoch: 103/1998 | Loss: 0.0016 | Episodes: 33 | Win count: 95 | Win rate: 0.913 | time: 121.6 seconds\n",
      "Epoch: 104/1998 | Loss: 0.0005 | Episodes: 92 | Win count: 96 | Win rate: 0.914 | time: 124.4 seconds\n",
      "Epoch: 105/1998 | Loss: 0.0014 | Episodes: 35 | Win count: 97 | Win rate: 0.915 | time: 125.6 seconds\n",
      "Epoch: 106/1998 | Loss: 0.0035 | Episodes: 8 | Win count: 98 | Win rate: 0.916 | time: 126.0 seconds\n",
      "Epoch: 107/1998 | Loss: 0.0014 | Episodes: 36 | Win count: 99 | Win rate: 0.917 | time: 127.2 seconds\n",
      "Epoch: 108/1998 | Loss: 0.0011 | Episodes: 9 | Win count: 100 | Win rate: 0.917 | time: 127.5 seconds\n",
      "Epoch: 109/1998 | Loss: 0.0010 | Episodes: 6 | Win count: 101 | Win rate: 0.918 | time: 127.8 seconds\n",
      "Epoch: 110/1998 | Loss: 0.0023 | Episodes: 35 | Win count: 102 | Win rate: 0.919 | time: 128.9 seconds\n",
      "Epoch: 111/1998 | Loss: 0.0010 | Episodes: 24 | Win count: 103 | Win rate: 0.920 | time: 129.6 seconds\n",
      "Epoch: 112/1998 | Loss: 0.0008 | Episodes: 31 | Win count: 104 | Win rate: 0.920 | time: 130.6 seconds\n",
      "Epoch: 113/1998 | Loss: 0.0009 | Episodes: 19 | Win count: 105 | Win rate: 0.921 | time: 131.1 seconds\n",
      "Epoch: 114/1998 | Loss: 0.0013 | Episodes: 26 | Win count: 106 | Win rate: 0.922 | time: 131.9 seconds\n",
      "Epoch: 115/1998 | Loss: 0.0006 | Episodes: 58 | Win count: 107 | Win rate: 0.922 | time: 133.6 seconds\n",
      "Epoch: 116/1998 | Loss: 0.0015 | Episodes: 2 | Win count: 108 | Win rate: 0.923 | time: 133.7 seconds\n",
      "Epoch: 117/1998 | Loss: 0.0006 | Episodes: 32 | Win count: 109 | Win rate: 0.924 | time: 134.7 seconds\n",
      "Epoch: 118/1998 | Loss: 0.0008 | Episodes: 28 | Win count: 110 | Win rate: 0.924 | time: 135.5 seconds\n",
      "Epoch: 119/1998 | Loss: 0.0010 | Episodes: 6 | Win count: 111 | Win rate: 0.925 | time: 135.8 seconds\n",
      "Epoch: 120/1998 | Loss: 0.0011 | Episodes: 30 | Win count: 112 | Win rate: 0.926 | time: 137.0 seconds\n",
      "Epoch: 121/1998 | Loss: 0.0011 | Episodes: 12 | Win count: 113 | Win rate: 0.926 | time: 137.4 seconds\n",
      "Epoch: 122/1998 | Loss: 0.0004 | Episodes: 24 | Win count: 114 | Win rate: 0.927 | time: 138.2 seconds\n",
      "Epoch: 123/1998 | Loss: 0.0022 | Episodes: 25 | Win count: 115 | Win rate: 0.927 | time: 138.9 seconds\n",
      "Epoch: 124/1998 | Loss: 0.0005 | Episodes: 14 | Win count: 116 | Win rate: 0.928 | time: 139.4 seconds\n",
      "Epoch: 125/1998 | Loss: 0.0003 | Episodes: 14 | Win count: 117 | Win rate: 0.929 | time: 139.9 seconds\n",
      "Epoch: 126/1998 | Loss: 0.0006 | Episodes: 2 | Win count: 118 | Win rate: 0.929 | time: 140.5 seconds\n",
      "Epoch: 127/1998 | Loss: 0.0005 | Episodes: 14 | Win count: 119 | Win rate: 0.930 | time: 141.4 seconds\n",
      "Epoch: 128/1998 | Loss: 0.0002 | Episodes: 7 | Win count: 120 | Win rate: 0.930 | time: 141.8 seconds\n",
      "Epoch: 129/1998 | Loss: 0.0010 | Episodes: 12 | Win count: 121 | Win rate: 0.931 | time: 142.6 seconds\n",
      "Epoch: 130/1998 | Loss: 0.0002 | Episodes: 35 | Win count: 122 | Win rate: 0.931 | time: 143.9 seconds\n",
      "Epoch: 131/1998 | Loss: 0.0006 | Episodes: 28 | Win count: 123 | Win rate: 0.932 | time: 145.0 seconds\n",
      "Epoch: 132/1998 | Loss: 0.0012 | Episodes: 28 | Win count: 124 | Win rate: 0.932 | time: 146.0 seconds\n",
      "Epoch: 133/1998 | Loss: 0.0001 | Episodes: 50 | Win count: 125 | Win rate: 0.933 | time: 147.5 seconds\n",
      "Epoch: 134/1998 | Loss: 0.0003 | Episodes: 29 | Win count: 126 | Win rate: 0.933 | time: 148.7 seconds\n",
      "Epoch: 135/1998 | Loss: 0.0004 | Episodes: 26 | Win count: 127 | Win rate: 0.934 | time: 149.7 seconds\n",
      "Epoch: 136/1998 | Loss: 0.0012 | Episodes: 17 | Win count: 128 | Win rate: 0.934 | time: 150.4 seconds\n",
      "Epoch: 137/1998 | Loss: 0.0005 | Episodes: 4 | Win count: 129 | Win rate: 0.935 | time: 150.5 seconds\n",
      "Epoch: 138/1998 | Loss: 0.0008 | Episodes: 31 | Win count: 130 | Win rate: 0.935 | time: 151.5 seconds\n",
      "Epoch: 139/1998 | Loss: 0.0007 | Episodes: 21 | Win count: 131 | Win rate: 0.936 | time: 152.4 seconds\n",
      "Epoch: 140/1998 | Loss: 0.0009 | Episodes: 28 | Win count: 132 | Win rate: 0.936 | time: 153.6 seconds\n",
      "Epoch: 141/1998 | Loss: 0.0000 | Episodes: 20 | Win count: 133 | Win rate: 0.937 | time: 154.3 seconds\n",
      "Epoch: 142/1998 | Loss: 0.0004 | Episodes: 9 | Win count: 134 | Win rate: 0.937 | time: 154.8 seconds\n",
      "Epoch: 143/1998 | Loss: 0.0001 | Episodes: 11 | Win count: 135 | Win rate: 0.938 | time: 155.4 seconds\n",
      "Epoch: 144/1998 | Loss: 0.0009 | Episodes: 31 | Win count: 136 | Win rate: 0.938 | time: 156.6 seconds\n",
      "Epoch: 145/1998 | Loss: 0.0007 | Episodes: 43 | Win count: 137 | Win rate: 0.938 | time: 158.1 seconds\n",
      "Epoch: 146/1998 | Loss: 0.0002 | Episodes: 20 | Win count: 138 | Win rate: 0.939 | time: 158.9 seconds\n",
      "Epoch: 147/1998 | Loss: 0.0001 | Episodes: 26 | Win count: 139 | Win rate: 0.939 | time: 160.0 seconds\n",
      "Epoch: 148/1998 | Loss: 0.0008 | Episodes: 16 | Win count: 140 | Win rate: 0.940 | time: 160.5 seconds\n",
      "Epoch: 149/1998 | Loss: 0.0005 | Episodes: 11 | Win count: 141 | Win rate: 0.940 | time: 161.2 seconds\n",
      "Epoch: 150/1998 | Loss: 0.0004 | Episodes: 9 | Win count: 142 | Win rate: 0.940 | time: 161.5 seconds\n",
      "Epoch: 151/1998 | Loss: 0.0001 | Episodes: 19 | Win count: 143 | Win rate: 0.941 | time: 162.1 seconds\n",
      "Epoch: 152/1998 | Loss: 0.0002 | Episodes: 4 | Win count: 144 | Win rate: 0.941 | time: 162.3 seconds\n",
      "Epoch: 153/1998 | Loss: 0.0001 | Episodes: 115 | Win count: 145 | Win rate: 0.942 | time: 165.8 seconds\n",
      "Epoch: 154/1998 | Loss: 0.0005 | Episodes: 27 | Win count: 146 | Win rate: 0.942 | time: 166.6 seconds\n",
      "Epoch: 155/1998 | Loss: 0.0001 | Episodes: 14 | Win count: 147 | Win rate: 0.942 | time: 167.3 seconds\n",
      "Epoch: 156/1998 | Loss: 0.0006 | Episodes: 23 | Win count: 148 | Win rate: 0.943 | time: 168.3 seconds\n",
      "Epoch: 157/1998 | Loss: 0.0008 | Episodes: 20 | Win count: 149 | Win rate: 0.943 | time: 168.9 seconds\n",
      "Reached 100% win rate at epoch: 157\n",
      "n_epoch: 157, max_mem: 512, data: 32, time: 169.5 seconds\n"
     ]
    },
    {
     "data": {
      "text/plain": [
       "169.496965"
      ]
     },
     "execution_count": 314,
     "metadata": {},
     "output_type": "execute_result"
    }
   ],
   "source": [
    "model = build_model(maze)\n",
    "qtrain(model, maze, epochs=1000, max_memory=8*maze.size, data_size=32)"
   ]
  },
  {
   "cell_type": "markdown",
   "metadata": {},
   "source": [
    "This cell will check to see if the model passes the completion check. Note: This could take several minutes."
   ]
  },
  {
   "cell_type": "code",
   "execution_count": 315,
   "metadata": {},
   "outputs": [
    {
     "data": {
      "text/plain": [
       "<matplotlib.image.AxesImage at 0x1d7124b9d08>"
      ]
     },
     "execution_count": 315,
     "metadata": {},
     "output_type": "execute_result"
    },
    {
     "data": {
      "image/png": "[encoded data removed]",
      "text/plain": [
       "<Figure size 432x288 with 1 Axes>"
      ]
     },
     "metadata": {
      "needs_background": "light"
     },
     "output_type": "display_data"
    }
   ],
   "source": [
    "completion_check(model, qmaze)\n",
    "show(qmaze)"
   ]
  },
  {
   "cell_type": "markdown",
   "metadata": {},
   "source": [
    "This cell will test your model for one game. It will start the pirate at the top-left corner and run play_game. The agent should find a path from the starting position to the target (treasure). The treasure is located in the bottom-right corner."
   ]
  },
  {
   "cell_type": "code",
   "execution_count": 316,
   "metadata": {},
   "outputs": [
    {
     "data": {
      "text/plain": [
       "<matplotlib.image.AxesImage at 0x1d712527788>"
      ]
     },
     "execution_count": 316,
     "metadata": {},
     "output_type": "execute_result"
    },
    {
     "data": {
      "image/png": "[encoded data removed]",
      "text/plain": [
       "<Figure size 432x288 with 1 Axes>"
      ]
     },
     "metadata": {
      "needs_background": "light"
     },
     "output_type": "display_data"
    }
   ],
   "source": [
    "pirate_start = (0, 0)\n",
    "play_game(model, qmaze, pirate_start)\n",
    "show(qmaze)"
   ]
  },
  {
   "cell_type": "markdown",
   "metadata": {},
   "source": [
    "## Save and Submit Your Work\n",
    "After you have finished creating the code for your notebook, save your work. Make sure that your notebook contains your name in the filename (e.g. Doe_Jane_ProjectTwo.ipynb). This will help your instructor access and grade your work easily. Download a copy of your IPYNB file and submit it to Brightspace. Refer to the Jupyter Notebook in Apporto Tutorial if you need help with these tasks."
   ]
  }
 ],
 "metadata": {
  "kernelspec": {
   "display_name": "Python 3",
   "language": "python",
   "name": "python3"
  },
  "language_info": {
   "codemirror_mode": {
    "name": "ipython",
    "version": 3
   },
   "file_extension": ".py",
   "mimetype": "text/x-python",
   "name": "python",
   "nbconvert_exporter": "python",
   "pygments_lexer": "ipython3",
   "version": "3.7.4"
  }
 },
 "nbformat": 4,
 "nbformat_minor": 2
}
